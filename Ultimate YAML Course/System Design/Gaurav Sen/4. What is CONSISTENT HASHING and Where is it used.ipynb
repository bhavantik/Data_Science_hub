{
 "cells": [
  {
   "cell_type": "markdown",
   "id": "d2459ff8",
   "metadata": {},
   "source": [
    "# 4. What is CONSISTENT HASHING and Where is it used?"
   ]
  },
  {
   "cell_type": "markdown",
   "id": "94c3c5f8",
   "metadata": {},
   "source": []
  }
 ],
 "metadata": {
  "language_info": {
   "name": "python"
  }
 },
 "nbformat": 4,
 "nbformat_minor": 5
}
