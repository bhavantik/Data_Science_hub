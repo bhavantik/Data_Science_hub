{
 "cells": [
  {
   "cell_type": "markdown",
   "id": "a95f529a",
   "metadata": {},
   "source": [
    "# 7. What is DATABASE SHARDING?"
   ]
  },
  {
   "cell_type": "markdown",
   "id": "80f24644",
   "metadata": {},
   "source": [
    "Sharding a database is a common scalability strategy for designing server-side systems. The server-side system architecture uses concepts like sharding to make systems more scalable, reliable, and performant.\n",
    "\n",
    "Sharding is the horizontal partitioning of data according to a shard key. This shard key determines which database the entry to be persisted is sent to. Some common strategies for this are reverse proxies.\n",
    "\n",
    "Database interviews ask for concepts like sharding to make databases more performant and available. This makes horizontal partitioning a logical choice.\n",
    "\n",
    "Looking to ace your next interview? Try this System Design video course! 🔥\n",
    "https://interviewready.io\n",
    "\n",
    "00:00 Introduction\n",
    "00:52 Sharding - The problem\n",
    "01:59 Horizontal Partitioning\n",
    "03:20 Considerations\n",
    "04:30 Potential Drawbacks\n",
    "08:46 A challenge!"
   ]
  },
  {
   "cell_type": "markdown",
   "id": "c91a492f",
   "metadata": {},
   "source": [
    "Notes to self:\n",
    "* Sharding is basically a hiearchical way to index databases.\n",
    "* One problem is that you have to split the database somehow. What do you split on?\n",
    "* You only shard shards when the shard grow too big.\n",
    "* When shard fails you use the master/slave architecture. Writes always go to master, reads are distributed across the slaves. When the master fails one of the slaves become master."
   ]
  },
  {
   "cell_type": "code",
   "execution_count": null,
   "id": "4f8b781f",
   "metadata": {
    "vscode": {
     "languageId": "plaintext"
    }
   },
   "outputs": [],
   "source": []
  },
  {
   "cell_type": "code",
   "execution_count": null,
   "id": "d92a4bee",
   "metadata": {
    "vscode": {
     "languageId": "plaintext"
    }
   },
   "outputs": [],
   "source": []
  }
 ],
 "metadata": {
  "language_info": {
   "name": "python"
  }
 },
 "nbformat": 4,
 "nbformat_minor": 5
}
