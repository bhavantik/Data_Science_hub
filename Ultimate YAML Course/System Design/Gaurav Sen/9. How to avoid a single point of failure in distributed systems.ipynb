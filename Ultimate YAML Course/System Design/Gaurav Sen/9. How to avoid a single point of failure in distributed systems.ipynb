{
 "cells": [
  {
   "cell_type": "markdown",
   "id": "ddc557a9",
   "metadata": {},
   "source": [
    "# 9. How to avoid a single point of failure in distributed systems"
   ]
  },
  {
   "cell_type": "markdown",
   "id": "95396ba0",
   "metadata": {},
   "source": [
    "A single point of failure(SPOF) in computing is a critical point in the system whose failure can take down the entire system. A lot of resources and time is spent on removing single points of failure in an architecture/design. \n",
    "\n",
    "Single points of failure often pop up when setting up coordinators and proxies. These services help distribute load and discover services as they come and leave the system. Because of the critical centralized tasks of these services, they are more prone to being SPOFs.\n",
    "\n",
    "One way to mitigate the problem is to use multiple instances of every component in the service. The graph of dependencies then becomes more flexible, allowing the system to resiliently switch to another service instead of failing requests.\n",
    "\n",
    "Another approach is to have backups which allow a quick switch over on failure. The backups are useful in components dealing with data, like databases.\n",
    "\n",
    "Allocating more resources, distributing the system and replication are some ways of mitigating the problem of SPOF. Hence designs include horizontal scaling capabilities and partitioning.\n",
    "\n",
    "It is important to note that the CAP theorem does not allow removing SPOFs if perfect consistency is required.\n",
    "\n",
    "Looking to ace your next interview? Try this System Design video course! 🔥\n",
    "https://get.interviewready.io\n",
    "\n",
    "Course chapters: \n",
    "1) Design an email service like Gmail\n",
    "2) Design a rate limiter\n",
    "3) Design an audio search engine\n",
    "4) Design a calling app like WhatsApp\n",
    "5) Design and code a payment tracking app like Splitwise\n",
    "6) Machine coding a cache\n",
    "7) Low level design of an event bus"
   ]
  }
 ],
 "metadata": {
  "language_info": {
   "name": "python"
  }
 },
 "nbformat": 4,
 "nbformat_minor": 5
}
