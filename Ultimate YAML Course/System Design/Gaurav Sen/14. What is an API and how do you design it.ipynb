{
 "cells": [
  {
   "cell_type": "markdown",
   "id": "9342ebf8",
   "metadata": {},
   "source": [
    "# 14. What is an API and how do you design it"
   ]
  },
  {
   "cell_type": "markdown",
   "id": "e3dd45c7",
   "metadata": {},
   "source": [
    "An API or application programmable interface is a software contract that defines the expectations and interactions of a piece of code exposed to external users. This includes the parameters, response, errors, and API name.\n",
    "\n",
    "We discuss how to design an API and what it takes to make the design scalable, extensible, and easy to use. HTTP APIs are widely used in software systems. HTTP is a stateless protocol, and systems often expose APIs using it.\n",
    "\n",
    "- 00:00 Who should watch this?\n",
    "- 00:13 What is an API?\n",
    "- 01:41 Best Practices\n",
    "- 02:22 Naming APIs\n",
    "- 02:43 Define Parameters\n",
    "- 03:29 Define Response Objects\n",
    "- 05:02 Define Errors\n",
    "- 06:22 HTTP Endpoints\n",
    "- 07:47 GET vs. POST\n",
    "- 09:10 Side Effects\n",
    "- 12:09 Pagination\n",
    "- 13:51 Data Consistency\n",
    "- 15:11 Thank you!"
   ]
  },
  {
   "cell_type": "markdown",
   "id": "0ca9aded",
   "metadata": {},
   "source": [
    "Atomicity means that operations must complete or fail as a whole unit."
   ]
  },
  {
   "cell_type": "markdown",
   "id": "242f164f",
   "metadata": {},
   "source": [
    "1. APIs can expose only \"public\" methods ( not protected or private methods )\n",
    "2. it is a good idea to minimize payloads sent in request objects via POST ( use GET instead ), and sending the routing information or action information in the JSON request payloads makes for dirty APIs."
   ]
  },
  {
   "cell_type": "markdown",
   "id": "06a6a015",
   "metadata": {},
   "source": [
    "    "
   ]
  }
 ],
 "metadata": {
  "language_info": {
   "name": "python"
  }
 },
 "nbformat": 4,
 "nbformat_minor": 5
}
