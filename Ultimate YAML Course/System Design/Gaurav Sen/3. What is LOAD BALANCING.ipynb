{
 "cells": [
  {
   "cell_type": "markdown",
   "id": "1afab750",
   "metadata": {},
   "source": [
    "# 3. What is LOAD BALANCING? "
   ]
  },
  {
   "cell_type": "markdown",
   "id": "ab035998",
   "metadata": {},
   "source": [
    "Load Balancing is a key concept in system design. One simple way would be hashing all requests and then sending them to the assigned server.\n",
    "\n",
    "The standard way to hash objects is to map them to a search space and then transfer the load to the mapped computer. A system using this policy is likely to suffer when new nodes are added or removed from it. \n",
    "\n",
    "One term you would hear in system design interviews is Fault Tolerance, in which case a machine crashes. And Scalability, in which devices must be added to process more requests. Another term used often is request allocation. This means assigning a request to a server.\n",
    "\n",
    "Load balancing is often tied with service discovery and global locks. The type of load we want to balance is that of sticky sessions.\n",
    "\n",
    "Looking to ace your next interview? Try this System Design video course! 🔥\n",
    "https://interviewready.io\n",
    "\n",
    "00:00 Load Balancing - Consistent Hashing\n",
    "00:33 Example\n",
    "01:29 Server-Client Terms\n",
    "02:12 Scaling\n",
    "02:40 Load Balancing Problem\n",
    "03:58 Hashing Requests\n",
    "06:37 Request Stickiness\n",
    "08:00 Splitting the Pie\n",
    "10:35 Request Stickiness\n",
    "13:29 Next Video!  \n",
    "\n",
    "With video lectures, architecture diagrams, capacity planning, API contracts, and evaluation tests. It's a complete package."
   ]
  },
  {
   "cell_type": "markdown",
   "id": "e87536cc",
   "metadata": {},
   "source": [
    "With video lectures, architecture diagrams, capacity planning, API contracts, and evaluation tests. It's a complete package."
   ]
  },
  {
   "cell_type": "markdown",
   "id": "32808139",
   "metadata": {},
   "source": [
    "\n",
    "# Consistence Hashing\n"
   ]
  }
 ],
 "metadata": {
  "language_info": {
   "name": "python"
  }
 },
 "nbformat": 4,
 "nbformat_minor": 5
}
