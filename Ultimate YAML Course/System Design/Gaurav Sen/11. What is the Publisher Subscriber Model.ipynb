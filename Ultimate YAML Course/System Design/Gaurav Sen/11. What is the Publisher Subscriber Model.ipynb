{
 "cells": [
  {
   "cell_type": "markdown",
   "id": "b7b215a0",
   "metadata": {},
   "source": [
    "# 11. What is the Publisher Subscriber Model\n",
    "Microservices benefit from loose data coupling, which is provided by a publish subscribe model. In this model, events are produced by a publishing service and consumed by downstream services.\n",
    "\n",
    "Designing the micro service interactions involves event handling and consistency checks. We look into a pub-sub architecture to evaluate it's advantages and disadvantages compared to a request response architecture.\n",
    "\n",
    "This type of architecture relies on message queues to ensure event passing. An example would be rabbitMQ or Kafka. The architecture is common in real life scenarios and interviews.\n",
    "\n",
    "If there is no strong consistency guarantee to made for transactions, an event model is good to use in microservices. Here are the main advantages:\n",
    "\n",
    "00:00 Problem Statement\n",
    "00:49 Asynchronous Events\n",
    "01:58 Publisher Subscriber Model\n",
    "03:04 Advantages of Event Systems\n",
    "05:45 Drawbacks of Event Systems\n",
    "10:22 Conclusion\n",
    "11:22 Thank you!\n",
    "\n",
    "1) Decouples a system's services.\n",
    "2) Easily add subscribers and publishers without informing the other.\n",
    "3) Converts multiple points of failure to single point of failure.\n",
    "4) Interaction logic can be moved to services/ message broker.\n",
    "\n",
    "Disadvantages:\n",
    "1) An extra layer of interaction slows services\n",
    "2) Cannot be used in systems requiring strong consistency of data\n",
    "3) Additional cost to team for redesigning, learning and maintaining the message queues.\n",
    "\n",
    "This model provides the basis for event driven systems.\n",
    "\n",
    "Looking to ace your next interview? Try this System Design video course! 🔥\n",
    "https://interviewready.io\n",
    "\n",
    "Course chapters: \n",
    "1) Design an email service like Gmail\n",
    "2) Design a rate limiter\n",
    "3) Design an audio search engine\n",
    "4) Design a calling app like WhatsApp\n",
    "5) Design and code a payment tracking app like Splitwise\n",
    "6) Machine coding a cache\n",
    "7) Low level design of an event bus\n"
   ]
  },
  {
   "cell_type": "markdown",
   "id": "8ab2d7ff",
   "metadata": {},
   "source": []
  }
 ],
 "metadata": {
  "language_info": {
   "name": "python"
  }
 },
 "nbformat": 4,
 "nbformat_minor": 5
}
