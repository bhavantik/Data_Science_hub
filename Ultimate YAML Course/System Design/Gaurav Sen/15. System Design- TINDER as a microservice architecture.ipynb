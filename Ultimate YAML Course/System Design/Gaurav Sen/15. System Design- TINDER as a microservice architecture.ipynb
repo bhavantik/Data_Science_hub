{
 "cells": [
  {
   "cell_type": "markdown",
   "id": "a17e08ca",
   "metadata": {},
   "source": [
    "# 15. System Design: TINDER as a microservice architecture"
   ]
  },
  {
   "cell_type": "markdown",
   "id": "dfb7c1dc",
   "metadata": {},
   "source": [
    "We design the system architecture of Tinder. Designing these apps starts with clarifying the system requirements. In an interview, Tinder has multiple requirements.\n",
    "\n",
    "When designing the system, we will be drawing logical components and defining their interactions with other services based on the microservice architecture. We assume that any internal details can be handled with our prior knowledge of system design concepts. This includes load balancing, message queues, databases, etc...\n",
    "\n",
    "The Tinder system has four requirements: storing profiles, recommendations, noting matches and chatting with matches. Storing profiles is trivial except for the image storage, where we argue on BLOB vs File storage. The distributed file architecture seems best when storing images.\n",
    "\n",
    "Direct Messaging or chatting with matches can be done using the XMPP protocol, which uses web sockets to have peer-to-peer communications between client and server. Each connection is built over TCP, ensuring that the connection is maintained. The session microservice can send messages to the receiver based on connection to user mappings.\n",
    "\n",
    "Our system is decoupled as much as possible. We try to maintain accept and reject information on the client. On swiping left or right, the client can note the action and avoid showing the same user again, perhaps using bloom filters.\n",
    "\n",
    "The server has a validation engine called the matcher microservice, which notes matches and allows or disallows chat between two users.\n",
    "\n",
    "The final requirement of recommendations needs city-wise partitioning of the user data. This is achieved using NoSQL databases like Cassandra or Amazon Dynamo. The other option is to use relational databases with horizontal partitioning. The concept is now referred to as sharding.\n",
    "\n",
    "If you have any doubts, suggestions, or feedback, I love to hear them below. This system is by no means complete, but it is enough for an hour-long interview.\n",
    "\n",
    "Disclaimer: The video does not contain or suggest the internal implementation of Tinder. The system we design is purely imaginary and has no links with the real app. I am sure the engineers at Tinder have done better than this!\n",
    "\n",
    "- 00:00 Prerequisites\n",
    "- 00:40 Picking features\n",
    "- 05:50 Storing images\n",
    "- 12:30 System Design\n",
    "- 18:22 Direct messaging for chat\n",
    "- 23:45 Matching algorithm\n",
    "- 27:16 Recommendation Engine\n",
    "- 34:40 Final pointers"
   ]
  },
  {
   "cell_type": "markdown",
   "id": "7209c3c1",
   "metadata": {},
   "source": []
  }
 ],
 "metadata": {
  "language_info": {
   "name": "python"
  }
 },
 "nbformat": 4,
 "nbformat_minor": 5
}
