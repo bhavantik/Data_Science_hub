{
 "cells": [
  {
   "cell_type": "markdown",
   "id": "2c9fc9ff",
   "metadata": {},
   "source": [
    "# 6. What is a MICROSERVICE ARCHITECTURE and what are its advantages?\n",
    "Microservices are a hot topic in system design interviews. It is important to know why we use them instead of monolithic systems. The short answer is Scalability. The detailed one would be:\n",
    "\n",
    "Advantages:\n",
    "1) The microservice architecture is easier to reason about/design for a complicated system.\n",
    "2) They allow new members to train for shorter periods and have less context before touching a system.\n",
    "3) Deployments are fluid and continuous for each service.\n",
    "4) They allow decoupling service logic on the basis of business responsibility\n",
    "5) They are more available as a single service having a bug does not bring down the entire system. This is called a single point of failure.\n",
    "6) Individual services can be written in different languages.\n",
    "7) The developer teams can talk to each other through API sheets instead of working on the same repository, which requires conflict resolution.\n",
    "8) New services can be tested easily and individually. The testing structure is close to unit testing compared to a monolith.\n",
    "\n",
    "Microservices are at a disadvantage to Monoliths in some cases. Monoliths are favorable when:\n",
    "1) The technical/developer team is very small\n",
    "2) The service is simple to think of as a whole.\n",
    "3) The service requires very high efficiency, where network calls are avoided as much as possible.\n",
    "4) All developers must have a context of all services.\n",
    "\n",
    "Recommended system design video course: \n",
    "https://interviewready.io\n",
    "\n",
    "00:00 How do they differ?\n",
    "02:02 Advantages of Monoliths\n",
    "03:33 Disadvantages of Monoliths\n",
    "04:55 Advantages of Microservices\n",
    "06:16 Disadvantages of Microservices\n",
    "07:03 Summary\n",
    "07:57 Thank you!"
   ]
  },
  {
   "cell_type": "markdown",
   "id": "d2611556",
   "metadata": {},
   "source": [
    "\n",
    "Monolith - Single/Multiple machine running the computation\n",
    "\n",
    "Microservice - It's a division of whole works into business units which are turned into specific microservice. \n",
    "\n",
    "Adv Monolith:\n",
    "- Less moving parts\n",
    "- Good for small teams \n",
    "- Less duplication for tests etc\n",
    "- Faster because everything is in same box(procedure calls)\n",
    "\n",
    "Disadv Monlith:\n",
    "- Require more context\n",
    "- Deployment is complex (everything is touching every other thing)\n",
    "- Too much responsibility on one server (one can break everything)\n",
    "- Tight coupling \n",
    "\n",
    "Adv Micro:\n",
    "- Easy to scale\n",
    "- Less context required\n",
    "- Parallel development is easy \n",
    "- Less hidden parts(more resources can be provided where it is required)\n",
    "\n",
    "Disadv Micro:\n",
    "- Tougher to design\n",
    "\n",
    "Most of the times interviews are high scale and hence micro service is preferred\n"
   ]
  },
  {
   "cell_type": "markdown",
   "id": "5faca500",
   "metadata": {},
   "source": [
    "Very good explanation in short video .Just adding few more points of my understanding\n",
    "Monolith is a single application build for many systems.\n",
    "In Monolith if any modifications done in the code the whole application should be build and deploy. In case of my microservices only the modified microservices will be deployed.\n",
    "Monolith uses local calls for interaction where as microservices will use network calls. So here Monolith will give better performance as compared to microservices.\n",
    "Testing will be easier in microservices because we  test only modified microservice .\n",
    "In case of Monolith if any changes done need   to perform the functionality testing of whole application to make sure application is working as expected."
   ]
  },
  {
   "cell_type": "markdown",
   "id": "5e9f379e",
   "metadata": {},
   "source": []
  }
 ],
 "metadata": {
  "language_info": {
   "name": "python"
  }
 },
 "nbformat": 4,
 "nbformat_minor": 5
}
