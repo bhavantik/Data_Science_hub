{
 "cells": [
  {
   "cell_type": "markdown",
   "id": "a8b425b8",
   "metadata": {},
   "source": [
    "# 5. What is a MESSAGE QUEUE and Where is it used?\n",
    "Messaging Queues are widely used in asynchronous systems. Message processing in an asynchronous fashion allows the client to relieve itself from waiting for a task to complete and, hence, can do other jobs during that time. It also allows a server to process its jobs in the order it wants to.\n",
    "\n",
    "Messaging Queues provide useful features such as persistence, routing, and task management. We will be discussing the benefits of a message queue in future videos.\n",
    "\n",
    "A system having a message queue can move to higher-level requirements while abstracting implementation details of message delivery and event handling to the messaging queue.\n",
    "\n",
    "The 'queue' is just a name for this data structure. In practice, it could be storing messages using any policy. Some examples of message queues are Kafka and RabbitMQ. They are widely used for various purposes, such as command query request segregation (CQRS) and event sourcing.\n",
    "\n",
    "00:00 Pizza Shop Example\n",
    "01:40 Benefits of Asynchronous Processing\n",
    "02:44 Scaling Shops (Horizontally)\n",
    "03:10 Fault Tolerance\n",
    "04:09 Features of a message queue\n",
    "08:38 Encapsulation\n",
    "09:38 Thank you!"
   ]
  },
  {
   "cell_type": "markdown",
   "id": "21a53648",
   "metadata": {},
   "source": []
  }
 ],
 "metadata": {
  "language_info": {
   "name": "python"
  }
 },
 "nbformat": 4,
 "nbformat_minor": 5
}
