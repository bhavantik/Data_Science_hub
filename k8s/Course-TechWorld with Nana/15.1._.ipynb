{
 "cells": [
  {
   "cell_type": "markdown",
   "id": "842fb437",
   "metadata": {},
   "source": []
  }
 ],
 "metadata": {
  "language_info": {
   "name": "python"
  }
 },
 "nbformat": 4,
 "nbformat_minor": 5
}
